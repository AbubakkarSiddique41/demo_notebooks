{
 "cells": [
  {
   "cell_type": "code",
   "execution_count": 4,
   "metadata": {},
   "outputs": [],
   "source": [
    "from handcalcs.decorator import handcalc\n",
    "import numpy as np"
   ]
  },
  {
   "cell_type": "markdown",
   "metadata": {},
   "source": [
    "## Demonstration of decorator with `jupyter_display = True`"
   ]
  },
  {
   "cell_type": "code",
   "execution_count": 5,
   "metadata": {},
   "outputs": [],
   "source": [
    "@handcalc(jupyter_display = True)\n",
    "def NBCC2015LC(DL: float = 0, SDL: float = 0, SL: float = 0, LL: float = 0, WL: float= 0, EL: float = 0):\n",
    "    LC1 = 1.4*DL\n",
    "    LC2a = 1.25*DL + 1.5*LL\n",
    "    LC2b = 1.25*DL + 1.5*LL + 0.5*SL\n",
    "    LC3a = 1.25*DL + 1.5*SL\n",
    "    LC3b = 1.25*DL + 1.5*SL + 0.5*LL\n",
    "    return locals()"
   ]
  },
  {
   "cell_type": "code",
   "execution_count": 6,
   "metadata": {},
   "outputs": [
    {
     "data": {
      "text/latex": [
       "\\[\n",
       "\\begin{aligned}\n",
       "LC1 &= 1.4 \\cdot DL = 1.4 \\cdot 2 &= 2.8\n",
       "\\\\[10pt]\n",
       "LC2a &= 1.25 \\cdot DL + 1.5 \\cdot LL = 1.25 \\cdot 2 + 1.5 \\cdot 1.5 &= 4.75\n",
       "\\\\[10pt]\n",
       "LC2b &= 1.25 \\cdot DL + 1.5 \\cdot LL + 0.5 \\cdot SL = 1.25 \\cdot 2 + 1.5 \\cdot 1.5 + 0.5 \\cdot 3 &= 6.25\n",
       "\\\\[10pt]\n",
       "LC3a &= 1.25 \\cdot DL + 1.5 \\cdot SL = 1.25 \\cdot 2 + 1.5 \\cdot 3 &= 7.0\n",
       "\\\\[10pt]\n",
       "LC3b &= 1.25 \\cdot DL + 1.5 \\cdot SL + 0.5 \\cdot LL = 1.25 \\cdot 2 + 1.5 \\cdot 3 + 0.5 \\cdot 1.5 &= 7.75\n",
       "\\end{aligned}\n",
       "\\]"
      ],
      "text/plain": [
       "<IPython.core.display.Latex object>"
      ]
     },
     "metadata": {},
     "output_type": "display_data"
    }
   ],
   "source": [
    "myfunc_results = NBCC2015LC(LL=1.5,DL=2,SL=3)"
   ]
  },
  {
   "cell_type": "code",
   "execution_count": 15,
   "metadata": {},
   "outputs": [],
   "source": [
    "ar = np.array([1, 2.67, 3, 4])"
   ]
  },
  {
   "cell_type": "code",
   "execution_count": 16,
   "metadata": {},
   "outputs": [
    {
     "data": {
      "text/latex": [
       "\\[\n",
       "\\begin{aligned}\n",
       "LC1 &= 1.4 \\cdot DL = 1.4 \\cdot 2 &= 2.8\n",
       "\\\\[10pt]\n",
       "LC2a &= 1.25 \\cdot DL + 1.5 \\cdot LL = 1.25 \\cdot 2 + 1.5 \\cdot [1.0,\\ 2.67,\\ 3.0,\\ 4.0] &= [4.0,\\ 6.505,\\ 7.0,\\ 8.5]\n",
       "\\\\[10pt]\n",
       "LC2b &= 1.25 \\cdot DL + 1.5 \\cdot LL + 0.5 \\cdot SL \\\\&= 1.25 \\cdot 2 + 1.5 \\cdot [1.0,\\ 2.67,\\ 3.0,\\ 4.0] + 0.5 \\cdot 3.5 \\\\&= [5.75,\\ 8.254999999999999,\\ 8.75,\\ 10.25]\\\\\n",
       "\\\\[10pt]\n",
       "LC3a &= 1.25 \\cdot DL + 1.5 \\cdot SL = 1.25 \\cdot 2 + 1.5 \\cdot 3.5 &= 7.75\n",
       "\\\\[10pt]\n",
       "LC3b &= 1.25 \\cdot DL + 1.5 \\cdot SL + 0.5 \\cdot LL = 1.25 \\cdot 2 + 1.5 \\cdot 3.5 + 0.5 \\cdot [1.0,\\ 2.67,\\ 3.0,\\ 4.0] &= [8.25,\\ 9.085,\\ 9.25,\\ 9.75]\n",
       "\\end{aligned}\n",
       "\\]"
      ],
      "text/plain": [
       "<IPython.core.display.Latex object>"
      ]
     },
     "metadata": {},
     "output_type": "display_data"
    }
   ],
   "source": [
    "myfunc_results = NBCC2015LC(DL=2, LL=ar, SL = 3.5)"
   ]
  },
  {
   "cell_type": "markdown",
   "metadata": {},
   "source": [
    "## You can use the decorator in a `.py` file filled with decorated functions\n",
    "When the imported, decorated functions are called in Jupyter, then the Latex is displayed."
   ]
  },
  {
   "cell_type": "code",
   "execution_count": 17,
   "metadata": {},
   "outputs": [],
   "source": [
    "import eqn_lib"
   ]
  },
  {
   "cell_type": "code",
   "execution_count": 18,
   "metadata": {},
   "outputs": [
    {
     "data": {
      "text/latex": [
       "\\[\n",
       "\\begin{aligned}\n",
       "LC1 &= 1.4 \\cdot DL = 1.4 \\cdot 2 &= 2.8\n",
       "\\\\[10pt]\n",
       "LC2a &= 1.25 \\cdot DL + 1.5 \\cdot LL = 1.25 \\cdot 2 + 1.5 \\cdot [1.0,\\ 2.67,\\ 3.0,\\ 4.0] &= [4.0,\\ 6.505,\\ 7.0,\\ 8.5]\n",
       "\\\\[10pt]\n",
       "LC2b &= 1.25 \\cdot DL + 1.5 \\cdot LL + 0.5 \\cdot SL \\\\&= 1.25 \\cdot 2 + 1.5 \\cdot [1.0,\\ 2.67,\\ 3.0,\\ 4.0] + 0.5 \\cdot 3.5 \\\\&= [5.75,\\ 8.254999999999999,\\ 8.75,\\ 10.25]\\\\\n",
       "\\\\[10pt]\n",
       "LC3a &= 1.25 \\cdot DL + 1.5 \\cdot SL = 1.25 \\cdot 2 + 1.5 \\cdot 3.5 &= 7.75\n",
       "\\\\[10pt]\n",
       "LC3b &= 1.25 \\cdot DL + 1.5 \\cdot SL + 0.5 \\cdot LL = 1.25 \\cdot 2 + 1.5 \\cdot 3.5 + 0.5 \\cdot [1.0,\\ 2.67,\\ 3.0,\\ 4.0] &= [8.25,\\ 9.085,\\ 9.25,\\ 9.75]\n",
       "\\end{aligned}\n",
       "\\]"
      ],
      "text/plain": [
       "<IPython.core.display.Latex object>"
      ]
     },
     "metadata": {},
     "output_type": "display_data"
    }
   ],
   "source": [
    "results = eqn_lib.NBCC2015LC(DL=2, LL=ar, SL = 3.5)"
   ]
  },
  {
   "cell_type": "code",
   "execution_count": 14,
   "metadata": {},
   "outputs": [
    {
     "data": {
      "text/plain": [
       "{'DL': 2,\n",
       " 'SDL': 0,\n",
       " 'SL': 3.5,\n",
       " 'LL': array([1, 2, 3, 4]),\n",
       " 'WL': 0,\n",
       " 'EL': 0,\n",
       " 'LC1': 2.8,\n",
       " 'LC2a': array([4. , 5.5, 7. , 8.5]),\n",
       " 'LC2b': array([ 5.75,  7.25,  8.75, 10.25]),\n",
       " 'LC3a': 7.75,\n",
       " 'LC3b': array([8.25, 8.75, 9.25, 9.75])}"
      ]
     },
     "execution_count": 14,
     "metadata": {},
     "output_type": "execute_result"
    }
   ],
   "source": [
    "results"
   ]
  }
 ],
 "metadata": {
  "kernelspec": {
   "display_name": "Python 3",
   "language": "python",
   "name": "python3"
  },
  "language_info": {
   "codemirror_mode": {
    "name": "ipython",
    "version": 3
   },
   "file_extension": ".py",
   "mimetype": "text/x-python",
   "name": "python",
   "nbconvert_exporter": "python",
   "pygments_lexer": "ipython3",
   "version": "3.7.7"
  }
 },
 "nbformat": 4,
 "nbformat_minor": 4
}
